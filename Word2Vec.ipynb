{
 "cells": [
  {
   "cell_type": "code",
   "execution_count": 1,
   "id": "2ee08b6f",
   "metadata": {},
   "outputs": [
    {
     "name": "stdout",
     "output_type": "stream",
     "text": [
      "Collecting gensim\n",
      "  Downloading gensim-4.3.2-cp310-cp310-win_amd64.whl.metadata (8.5 kB)\n",
      "Requirement already satisfied: numpy>=1.18.5 in c:\\python310\\lib\\site-packages (from gensim) (1.26.3)\n",
      "Requirement already satisfied: scipy>=1.7.0 in c:\\python310\\lib\\site-packages (from gensim) (1.11.4)\n",
      "Collecting smart-open>=1.8.1 (from gensim)\n",
      "  Downloading smart_open-6.4.0-py3-none-any.whl.metadata (21 kB)\n",
      "Downloading gensim-4.3.2-cp310-cp310-win_amd64.whl (24.0 MB)\n",
      "   ---------------------------------------- 0.0/24.0 MB ? eta -:--:--\n",
      "   ---------------------------------------- 0.2/24.0 MB 5.0 MB/s eta 0:00:05\n",
      "    --------------------------------------- 0.5/24.0 MB 6.0 MB/s eta 0:00:04\n",
      "   - -------------------------------------- 0.7/24.0 MB 5.8 MB/s eta 0:00:05\n",
      "   - -------------------------------------- 1.0/24.0 MB 5.8 MB/s eta 0:00:04\n",
      "   -- ------------------------------------- 1.3/24.0 MB 5.7 MB/s eta 0:00:04\n",
      "   -- ------------------------------------- 1.5/24.0 MB 5.6 MB/s eta 0:00:05\n",
      "   -- ------------------------------------- 1.7/24.0 MB 5.4 MB/s eta 0:00:05\n",
      "   --- ------------------------------------ 1.9/24.0 MB 5.3 MB/s eta 0:00:05\n",
      "   --- ------------------------------------ 2.1/24.0 MB 5.2 MB/s eta 0:00:05\n",
      "   --- ------------------------------------ 2.4/24.0 MB 5.0 MB/s eta 0:00:05\n",
      "   ---- ----------------------------------- 2.6/24.0 MB 5.0 MB/s eta 0:00:05\n",
      "   ---- ----------------------------------- 2.8/24.0 MB 4.9 MB/s eta 0:00:05\n",
      "   ----- ---------------------------------- 3.1/24.0 MB 5.0 MB/s eta 0:00:05\n",
      "   ----- ---------------------------------- 3.3/24.0 MB 5.0 MB/s eta 0:00:05\n",
      "   ----- ---------------------------------- 3.6/24.0 MB 5.1 MB/s eta 0:00:05\n",
      "   ------ --------------------------------- 3.8/24.0 MB 5.1 MB/s eta 0:00:04\n",
      "   ------ --------------------------------- 4.1/24.0 MB 5.2 MB/s eta 0:00:04\n",
      "   ------- -------------------------------- 4.4/24.0 MB 5.1 MB/s eta 0:00:04\n",
      "   ------- -------------------------------- 4.7/24.0 MB 5.1 MB/s eta 0:00:04\n",
      "   -------- ------------------------------- 4.9/24.0 MB 5.2 MB/s eta 0:00:04\n",
      "   -------- ------------------------------- 5.2/24.0 MB 5.2 MB/s eta 0:00:04\n",
      "   --------- ------------------------------ 5.4/24.0 MB 5.2 MB/s eta 0:00:04\n",
      "   --------- ------------------------------ 5.7/24.0 MB 5.2 MB/s eta 0:00:04\n",
      "   ---------- ----------------------------- 6.1/24.0 MB 5.2 MB/s eta 0:00:04\n",
      "   ---------- ----------------------------- 6.3/24.0 MB 5.3 MB/s eta 0:00:04\n",
      "   ---------- ----------------------------- 6.5/24.0 MB 5.3 MB/s eta 0:00:04\n",
      "   ----------- ---------------------------- 6.8/24.0 MB 5.2 MB/s eta 0:00:04\n",
      "   ----------- ---------------------------- 7.1/24.0 MB 5.3 MB/s eta 0:00:04\n",
      "   ------------ --------------------------- 7.3/24.0 MB 5.3 MB/s eta 0:00:04\n",
      "   ------------ --------------------------- 7.6/24.0 MB 5.4 MB/s eta 0:00:04\n",
      "   ------------- -------------------------- 7.9/24.0 MB 5.4 MB/s eta 0:00:04\n",
      "   ------------- -------------------------- 8.2/24.0 MB 5.4 MB/s eta 0:00:03\n",
      "   -------------- ------------------------- 8.4/24.0 MB 5.3 MB/s eta 0:00:03\n",
      "   -------------- ------------------------- 8.6/24.0 MB 5.4 MB/s eta 0:00:03\n",
      "   -------------- ------------------------- 9.0/24.0 MB 5.4 MB/s eta 0:00:03\n",
      "   --------------- ------------------------ 9.3/24.0 MB 5.4 MB/s eta 0:00:03\n",
      "   --------------- ------------------------ 9.5/24.0 MB 5.4 MB/s eta 0:00:03\n",
      "   ---------------- ----------------------- 9.7/24.0 MB 5.4 MB/s eta 0:00:03\n",
      "   ---------------- ----------------------- 10.0/24.0 MB 5.5 MB/s eta 0:00:03\n",
      "   ----------------- ---------------------- 10.3/24.0 MB 5.5 MB/s eta 0:00:03\n",
      "   ----------------- ---------------------- 10.6/24.0 MB 5.5 MB/s eta 0:00:03\n",
      "   ------------------ --------------------- 10.8/24.0 MB 5.5 MB/s eta 0:00:03\n",
      "   ------------------ --------------------- 11.1/24.0 MB 5.5 MB/s eta 0:00:03\n",
      "   ------------------ --------------------- 11.4/24.0 MB 5.5 MB/s eta 0:00:03\n",
      "   ------------------- -------------------- 11.6/24.0 MB 5.5 MB/s eta 0:00:03\n",
      "   ------------------- -------------------- 11.9/24.0 MB 5.5 MB/s eta 0:00:03\n",
      "   -------------------- ------------------- 12.2/24.0 MB 5.6 MB/s eta 0:00:03\n",
      "   -------------------- ------------------- 12.5/24.0 MB 5.6 MB/s eta 0:00:03\n",
      "   --------------------- ------------------ 12.7/24.0 MB 5.7 MB/s eta 0:00:02\n",
      "   --------------------- ------------------ 13.0/24.0 MB 5.7 MB/s eta 0:00:02\n",
      "   ---------------------- ----------------- 13.3/24.0 MB 5.7 MB/s eta 0:00:02\n",
      "   ---------------------- ----------------- 13.5/24.0 MB 5.7 MB/s eta 0:00:02\n",
      "   ---------------------- ----------------- 13.8/24.0 MB 5.7 MB/s eta 0:00:02\n",
      "   ----------------------- ---------------- 13.9/24.0 MB 5.6 MB/s eta 0:00:02\n",
      "   ----------------------- ---------------- 14.4/24.0 MB 5.7 MB/s eta 0:00:02\n",
      "   ------------------------ --------------- 14.7/24.0 MB 5.7 MB/s eta 0:00:02\n",
      "   ------------------------ --------------- 15.0/24.0 MB 5.8 MB/s eta 0:00:02\n",
      "   ------------------------- -------------- 15.3/24.0 MB 5.8 MB/s eta 0:00:02\n",
      "   ------------------------- -------------- 15.5/24.0 MB 5.8 MB/s eta 0:00:02\n",
      "   -------------------------- ------------- 15.7/24.0 MB 5.8 MB/s eta 0:00:02\n",
      "   -------------------------- ------------- 16.0/24.0 MB 5.8 MB/s eta 0:00:02\n",
      "   -------------------------- ------------- 16.1/24.0 MB 5.7 MB/s eta 0:00:02\n",
      "   --------------------------- ------------ 16.2/24.0 MB 5.6 MB/s eta 0:00:02\n",
      "   --------------------------- ------------ 16.5/24.0 MB 5.6 MB/s eta 0:00:02\n",
      "   ---------------------------- ----------- 16.8/24.0 MB 5.6 MB/s eta 0:00:02\n",
      "   ---------------------------- ----------- 17.1/24.0 MB 5.6 MB/s eta 0:00:02\n",
      "   ---------------------------- ----------- 17.3/24.0 MB 5.6 MB/s eta 0:00:02\n",
      "   ----------------------------- ---------- 17.6/24.0 MB 5.6 MB/s eta 0:00:02\n",
      "   ----------------------------- ---------- 17.9/24.0 MB 5.6 MB/s eta 0:00:02\n",
      "   ------------------------------ --------- 18.2/24.0 MB 5.6 MB/s eta 0:00:02\n",
      "   ------------------------------ --------- 18.5/24.0 MB 5.6 MB/s eta 0:00:01\n",
      "   ------------------------------- -------- 18.8/24.0 MB 5.6 MB/s eta 0:00:01\n",
      "   ------------------------------- -------- 19.1/24.0 MB 5.6 MB/s eta 0:00:01\n",
      "   -------------------------------- ------- 19.4/24.0 MB 5.6 MB/s eta 0:00:01\n",
      "   -------------------------------- ------- 19.7/24.0 MB 5.6 MB/s eta 0:00:01\n",
      "   --------------------------------- ------ 19.9/24.0 MB 5.7 MB/s eta 0:00:01\n",
      "   --------------------------------- ------ 20.2/24.0 MB 5.7 MB/s eta 0:00:01\n",
      "   ---------------------------------- ----- 20.5/24.0 MB 5.7 MB/s eta 0:00:01\n",
      "   ---------------------------------- ----- 20.8/24.0 MB 5.7 MB/s eta 0:00:01\n",
      "   ----------------------------------- ---- 21.1/24.0 MB 5.7 MB/s eta 0:00:01\n",
      "   ----------------------------------- ---- 21.4/24.0 MB 5.7 MB/s eta 0:00:01\n",
      "   ------------------------------------ --- 21.6/24.0 MB 5.7 MB/s eta 0:00:01\n",
      "   ------------------------------------ --- 21.9/24.0 MB 5.7 MB/s eta 0:00:01\n",
      "   ------------------------------------- -- 22.2/24.0 MB 5.7 MB/s eta 0:00:01\n",
      "   ------------------------------------- -- 22.5/24.0 MB 5.7 MB/s eta 0:00:01\n",
      "   ------------------------------------- -- 22.8/24.0 MB 5.7 MB/s eta 0:00:01\n",
      "   -------------------------------------- - 23.1/24.0 MB 5.7 MB/s eta 0:00:01\n",
      "   -------------------------------------- - 23.3/24.0 MB 5.7 MB/s eta 0:00:01\n",
      "   ---------------------------------------  23.6/24.0 MB 5.8 MB/s eta 0:00:01\n",
      "   ---------------------------------------  23.9/24.0 MB 5.7 MB/s eta 0:00:01\n",
      "   ---------------------------------------  24.0/24.0 MB 5.7 MB/s eta 0:00:01\n",
      "   ---------------------------------------  24.0/24.0 MB 5.7 MB/s eta 0:00:01\n",
      "   ---------------------------------------- 24.0/24.0 MB 5.5 MB/s eta 0:00:00\n",
      "Downloading smart_open-6.4.0-py3-none-any.whl (57 kB)\n",
      "   ---------------------------------------- 0.0/57.0 kB ? eta -:--:--\n",
      "   ---------------------------------------- 57.0/57.0 kB 3.1 MB/s eta 0:00:00\n",
      "Installing collected packages: smart-open, gensim\n",
      "Successfully installed gensim-4.3.2 smart-open-6.4.0\n",
      "Collecting python-Levenshtein\n",
      "  Downloading python_Levenshtein-0.23.0-py3-none-any.whl.metadata (3.8 kB)\n",
      "Collecting Levenshtein==0.23.0 (from python-Levenshtein)\n",
      "  Downloading Levenshtein-0.23.0-cp310-cp310-win_amd64.whl.metadata (3.5 kB)\n",
      "Collecting rapidfuzz<4.0.0,>=3.1.0 (from Levenshtein==0.23.0->python-Levenshtein)\n",
      "  Downloading rapidfuzz-3.6.1-cp310-cp310-win_amd64.whl.metadata (11 kB)\n",
      "Downloading python_Levenshtein-0.23.0-py3-none-any.whl (9.4 kB)\n",
      "Downloading Levenshtein-0.23.0-cp310-cp310-win_amd64.whl (100 kB)\n",
      "   ---------------------------------------- 0.0/101.0 kB ? eta -:--:--\n",
      "   ---------------------------------------- 101.0/101.0 kB 6.0 MB/s eta 0:00:00\n",
      "Downloading rapidfuzz-3.6.1-cp310-cp310-win_amd64.whl (1.6 MB)\n",
      "   ---------------------------------------- 0.0/1.6 MB ? eta -:--:--\n",
      "   ----- ---------------------------------- 0.2/1.6 MB 7.3 MB/s eta 0:00:01\n",
      "   ------------ --------------------------- 0.5/1.6 MB 6.4 MB/s eta 0:00:01\n",
      "   ------------------- -------------------- 0.8/1.6 MB 6.1 MB/s eta 0:00:01\n",
      "   ----------------------- ---------------- 1.0/1.6 MB 6.2 MB/s eta 0:00:01\n",
      "   ------------------------------- -------- 1.3/1.6 MB 5.8 MB/s eta 0:00:01\n",
      "   ---------------------------------------  1.6/1.6 MB 6.0 MB/s eta 0:00:01\n",
      "   ---------------------------------------- 1.6/1.6 MB 5.5 MB/s eta 0:00:00\n",
      "Installing collected packages: rapidfuzz, Levenshtein, python-Levenshtein\n",
      "Successfully installed Levenshtein-0.23.0 python-Levenshtein-0.23.0 rapidfuzz-3.6.1\n"
     ]
    }
   ],
   "source": [
    "!pip install gensim\n",
    "!pip install python-Levenshtein"
   ]
  },
  {
   "cell_type": "code",
   "execution_count": 2,
   "id": "11ac6df1",
   "metadata": {},
   "outputs": [],
   "source": [
    "#Using Gensim\n",
    "#using levenshtein"
   ]
  },
  {
   "cell_type": "code",
   "execution_count": 3,
   "id": "900d2b35",
   "metadata": {},
   "outputs": [],
   "source": [
    "import gensim\n",
    "import pandas as pd"
   ]
  },
  {
   "cell_type": "code",
   "execution_count": 7,
   "id": "420ea944",
   "metadata": {},
   "outputs": [],
   "source": [
    "df=pd.read_json(\"Cell_Phones_and_Accessories_5.json\",lines = True)"
   ]
  },
  {
   "cell_type": "code",
   "execution_count": 8,
   "id": "10b58f69",
   "metadata": {},
   "outputs": [
    {
     "data": {
      "text/html": [
       "<div>\n",
       "<style scoped>\n",
       "    .dataframe tbody tr th:only-of-type {\n",
       "        vertical-align: middle;\n",
       "    }\n",
       "\n",
       "    .dataframe tbody tr th {\n",
       "        vertical-align: top;\n",
       "    }\n",
       "\n",
       "    .dataframe thead th {\n",
       "        text-align: right;\n",
       "    }\n",
       "</style>\n",
       "<table border=\"1\" class=\"dataframe\">\n",
       "  <thead>\n",
       "    <tr style=\"text-align: right;\">\n",
       "      <th></th>\n",
       "      <th>reviewerID</th>\n",
       "      <th>asin</th>\n",
       "      <th>reviewerName</th>\n",
       "      <th>helpful</th>\n",
       "      <th>reviewText</th>\n",
       "      <th>overall</th>\n",
       "      <th>summary</th>\n",
       "      <th>unixReviewTime</th>\n",
       "      <th>reviewTime</th>\n",
       "    </tr>\n",
       "  </thead>\n",
       "  <tbody>\n",
       "    <tr>\n",
       "      <th>0</th>\n",
       "      <td>A30TL5EWN6DFXT</td>\n",
       "      <td>120401325X</td>\n",
       "      <td>christina</td>\n",
       "      <td>[0, 0]</td>\n",
       "      <td>They look good and stick good! I just don't li...</td>\n",
       "      <td>4</td>\n",
       "      <td>Looks Good</td>\n",
       "      <td>1400630400</td>\n",
       "      <td>05 21, 2014</td>\n",
       "    </tr>\n",
       "    <tr>\n",
       "      <th>1</th>\n",
       "      <td>ASY55RVNIL0UD</td>\n",
       "      <td>120401325X</td>\n",
       "      <td>emily l.</td>\n",
       "      <td>[0, 0]</td>\n",
       "      <td>These stickers work like the review says they ...</td>\n",
       "      <td>5</td>\n",
       "      <td>Really great product.</td>\n",
       "      <td>1389657600</td>\n",
       "      <td>01 14, 2014</td>\n",
       "    </tr>\n",
       "    <tr>\n",
       "      <th>2</th>\n",
       "      <td>A2TMXE2AFO7ONB</td>\n",
       "      <td>120401325X</td>\n",
       "      <td>Erica</td>\n",
       "      <td>[0, 0]</td>\n",
       "      <td>These are awesome and make my phone look so st...</td>\n",
       "      <td>5</td>\n",
       "      <td>LOVE LOVE LOVE</td>\n",
       "      <td>1403740800</td>\n",
       "      <td>06 26, 2014</td>\n",
       "    </tr>\n",
       "    <tr>\n",
       "      <th>3</th>\n",
       "      <td>AWJ0WZQYMYFQ4</td>\n",
       "      <td>120401325X</td>\n",
       "      <td>JM</td>\n",
       "      <td>[4, 4]</td>\n",
       "      <td>Item arrived in great time and was in perfect ...</td>\n",
       "      <td>4</td>\n",
       "      <td>Cute!</td>\n",
       "      <td>1382313600</td>\n",
       "      <td>10 21, 2013</td>\n",
       "    </tr>\n",
       "    <tr>\n",
       "      <th>4</th>\n",
       "      <td>ATX7CZYFXI1KW</td>\n",
       "      <td>120401325X</td>\n",
       "      <td>patrice m rogoza</td>\n",
       "      <td>[2, 3]</td>\n",
       "      <td>awesome! stays on, and looks great. can be use...</td>\n",
       "      <td>5</td>\n",
       "      <td>leopard home button sticker for iphone 4s</td>\n",
       "      <td>1359849600</td>\n",
       "      <td>02 3, 2013</td>\n",
       "    </tr>\n",
       "  </tbody>\n",
       "</table>\n",
       "</div>"
      ],
      "text/plain": [
       "       reviewerID        asin      reviewerName helpful  \\\n",
       "0  A30TL5EWN6DFXT  120401325X         christina  [0, 0]   \n",
       "1   ASY55RVNIL0UD  120401325X          emily l.  [0, 0]   \n",
       "2  A2TMXE2AFO7ONB  120401325X             Erica  [0, 0]   \n",
       "3   AWJ0WZQYMYFQ4  120401325X                JM  [4, 4]   \n",
       "4   ATX7CZYFXI1KW  120401325X  patrice m rogoza  [2, 3]   \n",
       "\n",
       "                                          reviewText  overall  \\\n",
       "0  They look good and stick good! I just don't li...        4   \n",
       "1  These stickers work like the review says they ...        5   \n",
       "2  These are awesome and make my phone look so st...        5   \n",
       "3  Item arrived in great time and was in perfect ...        4   \n",
       "4  awesome! stays on, and looks great. can be use...        5   \n",
       "\n",
       "                                     summary  unixReviewTime   reviewTime  \n",
       "0                                 Looks Good      1400630400  05 21, 2014  \n",
       "1                      Really great product.      1389657600  01 14, 2014  \n",
       "2                             LOVE LOVE LOVE      1403740800  06 26, 2014  \n",
       "3                                      Cute!      1382313600  10 21, 2013  \n",
       "4  leopard home button sticker for iphone 4s      1359849600   02 3, 2013  "
      ]
     },
     "execution_count": 8,
     "metadata": {},
     "output_type": "execute_result"
    }
   ],
   "source": [
    "df.head(5)"
   ]
  },
  {
   "cell_type": "code",
   "execution_count": 10,
   "id": "35ef1c8e",
   "metadata": {},
   "outputs": [
    {
     "data": {
      "text/plain": [
       "\"They look good and stick good! I just don't like the rounded shape because I was always bumping it and Siri kept popping up and it was irritating. I just won't buy a product like this again\""
      ]
     },
     "execution_count": 10,
     "metadata": {},
     "output_type": "execute_result"
    }
   ],
   "source": [
    "df.reviewText[0]"
   ]
  },
  {
   "cell_type": "code",
   "execution_count": 12,
   "id": "2c61b1a9",
   "metadata": {},
   "outputs": [
    {
     "data": {
      "text/plain": [
       "(194439, 9)"
      ]
     },
     "execution_count": 12,
     "metadata": {},
     "output_type": "execute_result"
    }
   ],
   "source": [
    "df.shape"
   ]
  },
  {
   "cell_type": "code",
   "execution_count": 13,
   "id": "a615e244",
   "metadata": {},
   "outputs": [
    {
     "data": {
      "text/plain": [
       "['they',\n",
       " 'look',\n",
       " 'good',\n",
       " 'and',\n",
       " 'stick',\n",
       " 'good',\n",
       " 'just',\n",
       " 'don',\n",
       " 'like',\n",
       " 'the',\n",
       " 'rounded',\n",
       " 'shape',\n",
       " 'because',\n",
       " 'was',\n",
       " 'always',\n",
       " 'bumping',\n",
       " 'it',\n",
       " 'and',\n",
       " 'siri',\n",
       " 'kept',\n",
       " 'popping',\n",
       " 'up',\n",
       " 'and',\n",
       " 'it',\n",
       " 'was',\n",
       " 'irritating',\n",
       " 'just',\n",
       " 'won',\n",
       " 'buy',\n",
       " 'product',\n",
       " 'like',\n",
       " 'this',\n",
       " 'again']"
      ]
     },
     "execution_count": 13,
     "metadata": {},
     "output_type": "execute_result"
    }
   ],
   "source": [
    "gensim.utils.simple_preprocess(\"They look good and stick good! I just don't like the rounded shape because I was always bumping it and Siri kept popping up and it was irritating. I just won't buy a product like this again\")"
   ]
  },
  {
   "cell_type": "code",
   "execution_count": 16,
   "id": "df8c6843",
   "metadata": {},
   "outputs": [
    {
     "data": {
      "text/plain": [
       "0         [they, look, good, and, stick, good, just, don...\n",
       "1         [these, stickers, work, like, the, review, say...\n",
       "2         [these, are, awesome, and, make, my, phone, lo...\n",
       "3         [item, arrived, in, great, time, and, was, in,...\n",
       "4         [awesome, stays, on, and, looks, great, can, b...\n",
       "                                ...                        \n",
       "194434    [works, great, just, like, my, original, one, ...\n",
       "194435    [great, product, great, packaging, high, quali...\n",
       "194436    [this, is, great, cable, just, as, good, as, t...\n",
       "194437    [really, like, it, becasue, it, works, well, w...\n",
       "194438    [product, as, described, have, wasted, lot, of...\n",
       "Name: reviewText, Length: 194439, dtype: object"
      ]
     },
     "execution_count": 16,
     "metadata": {},
     "output_type": "execute_result"
    }
   ],
   "source": [
    "review_text=df.reviewText.apply(gensim.utils.simple_preprocess)\n",
    "review_text"
   ]
  },
  {
   "cell_type": "code",
   "execution_count": 19,
   "id": "a47a7673",
   "metadata": {},
   "outputs": [],
   "source": [
    "model= gensim.models.Word2Vec(\n",
    "window=10,\n",
    "min_count=2,\n",
    "workers=4\n",
    ")"
   ]
  },
  {
   "cell_type": "markdown",
   "id": "1a8fdb54",
   "metadata": {},
   "source": [
    "model.build_vocab(review_test,progress_per=1000)"
   ]
  },
  {
   "cell_type": "code",
   "execution_count": 21,
   "id": "4b4b8e13",
   "metadata": {},
   "outputs": [],
   "source": [
    "model.build_vocab(review_text,progress_per=1000)"
   ]
  },
  {
   "cell_type": "markdown",
   "id": "cdf37bc2",
   "metadata": {},
   "source": [
    "model.epochs"
   ]
  },
  {
   "cell_type": "code",
   "execution_count": 22,
   "id": "7f395cdc",
   "metadata": {},
   "outputs": [
    {
     "data": {
      "text/plain": [
       "5"
      ]
     },
     "execution_count": 22,
     "metadata": {},
     "output_type": "execute_result"
    }
   ],
   "source": [
    "model.epochs"
   ]
  },
  {
   "cell_type": "code",
   "execution_count": 23,
   "id": "76106917",
   "metadata": {},
   "outputs": [
    {
     "data": {
      "text/plain": [
       "194439"
      ]
     },
     "execution_count": 23,
     "metadata": {},
     "output_type": "execute_result"
    }
   ],
   "source": [
    "model.corpus_count"
   ]
  },
  {
   "cell_type": "code",
   "execution_count": 24,
   "id": "d31a726c",
   "metadata": {},
   "outputs": [
    {
     "data": {
      "text/plain": [
       "(61502660, 83868975)"
      ]
     },
     "execution_count": 24,
     "metadata": {},
     "output_type": "execute_result"
    }
   ],
   "source": [
    "model.train(review_text, total_examples=model.corpus_count, epochs=model.epochs)"
   ]
  },
  {
   "cell_type": "code",
   "execution_count": 25,
   "id": "cdebbe5e",
   "metadata": {},
   "outputs": [],
   "source": [
    "model.save(\"./word2vec-amazon-cell-accessories-review-short.model\")"
   ]
  },
  {
   "cell_type": "code",
   "execution_count": 26,
   "id": "a29a8c4a",
   "metadata": {},
   "outputs": [
    {
     "data": {
      "text/plain": [
       "[('terrible', 0.6571189165115356),\n",
       " ('shabby', 0.6124762296676636),\n",
       " ('horrible', 0.604934811592102),\n",
       " ('good', 0.5670450329780579),\n",
       " ('awful', 0.544428288936615),\n",
       " ('funny', 0.5398170351982117),\n",
       " ('sad', 0.5315577983856201),\n",
       " ('cheap', 0.5216939449310303),\n",
       " ('crappy', 0.5184558033943176),\n",
       " ('legit', 0.5175396203994751)]"
      ]
     },
     "execution_count": 26,
     "metadata": {},
     "output_type": "execute_result"
    }
   ],
   "source": [
    "model.wv.most_similar(\"bad\")"
   ]
  },
  {
   "cell_type": "code",
   "execution_count": 27,
   "id": "f12cf690",
   "metadata": {},
   "outputs": [
    {
     "data": {
      "text/plain": [
       "[('decent', 0.8169077038764954),\n",
       " ('great', 0.7739447355270386),\n",
       " ('nice', 0.7082504630088806),\n",
       " ('fantastic', 0.6739736795425415),\n",
       " ('superb', 0.628059446811676),\n",
       " ('excellent', 0.6175267100334167),\n",
       " ('outstanding', 0.6171749234199524),\n",
       " ('cool', 0.5817453861236572),\n",
       " ('exceptional', 0.5801824927330017),\n",
       " ('terrific', 0.5777947306632996)]"
      ]
     },
     "execution_count": 27,
     "metadata": {},
     "output_type": "execute_result"
    }
   ],
   "source": [
    "model.wv.most_similar(\"good\")"
   ]
  },
  {
   "cell_type": "code",
   "execution_count": 29,
   "id": "72bd9c48",
   "metadata": {},
   "outputs": [
    {
     "data": {
      "text/plain": [
       "0.5178829"
      ]
     },
     "execution_count": 29,
     "metadata": {},
     "output_type": "execute_result"
    }
   ],
   "source": [
    "model.wv.similarity(w1=\"cheap\",w2=\"inexpensive\")"
   ]
  },
  {
   "cell_type": "code",
   "execution_count": 30,
   "id": "e588dd85",
   "metadata": {},
   "outputs": [
    {
     "data": {
      "text/plain": [
       "0.089694"
      ]
     },
     "execution_count": 30,
     "metadata": {},
     "output_type": "execute_result"
    }
   ],
   "source": [
    "model.wv.similarity(w1=\"cheap\",w2=\"product\")"
   ]
  },
  {
   "cell_type": "code",
   "execution_count": null,
   "id": "87c571df",
   "metadata": {},
   "outputs": [],
   "source": []
  }
 ],
 "metadata": {
  "kernelspec": {
   "display_name": "Python 3 (ipykernel)",
   "language": "python",
   "name": "python3"
  },
  "language_info": {
   "codemirror_mode": {
    "name": "ipython",
    "version": 3
   },
   "file_extension": ".py",
   "mimetype": "text/x-python",
   "name": "python",
   "nbconvert_exporter": "python",
   "pygments_lexer": "ipython3",
   "version": "3.10.7"
  }
 },
 "nbformat": 4,
 "nbformat_minor": 5
}
